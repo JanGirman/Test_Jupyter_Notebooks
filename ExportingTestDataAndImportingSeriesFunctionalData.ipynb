{
 "cells": [
  {
   "cell_type": "markdown",
   "metadata": {},
   "source": [
    "# 5. Export points, plot curves and re-import"
   ]
  },
  {
   "cell_type": "raw",
   "metadata": {},
   "source": [
    "Export statistical points, fit a curve and Import a multi-series functional attribute to a Design Data record"
   ]
  },
  {
   "cell_type": "markdown",
   "metadata": {},
   "source": [
    "## Connect to server and define variables"
   ]
  },
  {
   "cell_type": "code",
   "execution_count": 7,
   "metadata": {
    "ExecuteTime": {
     "end_time": "2016-04-06T13:22:20.420000",
     "start_time": "2016-04-06T13:22:20.379000"
    }
   },
   "outputs": [],
   "source": [
    "import GRANTA_MIScriptingToolkit as gdl\n",
    "from time import strftime\n",
    "import matplotlib.pyplot as plt\n",
    "import sys\n",
    "import pandas as pd\n",
    "import numpy as np\n",
    "\n",
    "serviceLayer = \"http://localhost/mi_servicelayer\"\n",
    "session = gdl.GRANTA_MISession(serviceLayer, autoLogon=True)\n",
    "\n",
    "'''Specify the target database key, table name, new record name and functional attribute details'''\n",
    "dbKey = 'MI_Training_10.0.1m'\n",
    "exportTable = 'Tensile Statistical Data'\n",
    "importTable = 'Design Data'\n",
    "newRecordName = 'STK Stats-To-Design Roll-Up Import'\n",
    "yAxisAttrName = 'Ultimate Tensile Strength'\n",
    "xAxisAttrName = 'Test Temperature'\n",
    "mutualAttributeUnit = 'MPa'\n",
    "funcAttributeName = 'Tens. Ult. Stress (L-dir) with Temp.'\n",
    "xAxis = ('Temperature', 'Numeric', 'K')  # name, type ('Numeric' OR 'Discrete'), unit (in this order!)\n",
    "\n",
    "# Table and Subset references\n",
    "partialExportTableRef = gdl.PartialTableReference(tableName=exportTable)\n",
    "partialImportTableRef = gdl.PartialTableReference(tableName=importTable)\n",
    "importTableRef = gdl.TableReference(DBKey=dbKey, name=importTable)\n",
    "importSubsetReference = gdl.SubsetReference(name=importTable, DBKey=dbKey, partialTableReference=partialImportTableRef)\n",
    "\n",
    "# Attribute references\n",
    "funcAttributeRef = gdl.AttributeReference(name=funcAttributeName, DBKey=dbKey,\n",
    "                                          partialTableReference=partialImportTableRef)\n",
    "yAxisAttributeRef = gdl.AttributeReference(name=yAxisAttrName, DBKey=dbKey,\n",
    "                                           partialTableReference=partialExportTableRef)\n",
    "xAxisAttributeRef = gdl.AttributeReference(name=xAxisAttrName, DBKey=dbKey,\n",
    "                                           partialTableReference=partialExportTableRef)\n",
    "expAttributeRefs = [yAxisAttributeRef, xAxisAttributeRef]"
   ]
  },
  {
   "cell_type": "markdown",
   "metadata": {},
   "source": [
    "## Define the exits search critiria for both our X and Y-Axis attributes"
   ]
  },
  {
   "cell_type": "code",
   "execution_count": 8,
   "metadata": {
    "collapsed": true
   },
   "outputs": [],
   "source": [
    "utsExistsSearchVal = gdl.ExistsSearchValue()\n",
    "utsSearchCriterion = gdl.RecordSearchCriterion(searchAttribute=yAxisAttributeRef,\n",
    "                         existsSearchValue=utsExistsSearchVal)\n",
    "tempExistsSearchVal = gdl.ExistsSearchValue()\n",
    "tempSearchCriterion = gdl.RecordSearchCriterion(searchAttribute=xAxisAttributeRef,\n",
    "                         existsSearchValue=tempExistsSearchVal)\n",
    "searchCriteria = gdl.CriteriaSearch(DBKey=dbKey,\n",
    "                                    searchCriteria=[utsSearchCriterion, tempSearchCriterion])"
   ]
  },
  {
   "cell_type": "markdown",
   "metadata": {},
   "source": [
    "## Do the search and extract the record references from the response"
   ]
  },
  {
   "cell_type": "code",
   "execution_count": 9,
   "metadata": {},
   "outputs": [],
   "source": [
    "searchResponse = session.searchService.CriteriaSearch(searchCriteria)\n",
    "expRecordRefs = [sr.recordReference for sr in searchResponse.searchResults]"
   ]
  },
  {
   "cell_type": "markdown",
   "metadata": {},
   "source": [
    "## Export the above records and the simple attributes and turn into series"
   ]
  },
  {
   "cell_type": "code",
   "execution_count": 11,
   "metadata": {},
   "outputs": [
    {
     "name": "stdout",
     "output_type": "stream",
     "text": [
      "   Test Temperature  Ultimate Tensile Strength\n",
      "5        194.261276                2399.146240\n",
      "0        294.261394                2189.890000\n",
      "4        422.038994                2078.310000\n",
      "3        588.706055                1848.140015\n",
      "2        699.817261                1734.376465\n",
      "1        810.928406                1263.004883\n"
     ]
    }
   ],
   "source": [
    "exportRequest = gdl.GetRecordAttributesByRefRequest(recordReferences=expRecordRefs,\n",
    "                                                    attributeReferences=expAttributeRefs)\n",
    "exportResponse = session.dataExportService.GetRecordAttributesByRef(exportRequest)\n",
    "if exportResponse.recordData:\n",
    "    yValues = [[a.pointDataType.points[0].value for a in r.attributeValues if a.attributeName == yAxisAttrName]\n",
    "               for r in exportResponse.recordData]\n",
    "    xValues = [[a.pointDataType.points[0].value for a in r.attributeValues if a.attributeName == xAxisAttrName]\n",
    "               for r in exportResponse.recordData]\n",
    "    seriesToImport = pd.DataFrame(list(zip([x[0] for x in xValues], [y[0] for y in yValues])),\n",
    "                                  columns=[xAxisAttrName, yAxisAttrName])\n",
    "    sortedDF = seriesToImport.sort_values(by=[xAxisAttrName])\n",
    "    print(sortedDF)\n",
    "    additionalSeriesParams = [('Data Type', 'Discrete', 'Test Data')]\n",
    "else:\n",
    "    sys.exit('No record data was exported - verify references.')\n",
    "\n",
    "xData = sortedDF[xAxisAttrName].tolist()\n",
    "yData = sortedDF[yAxisAttrName].tolist()\n",
    "series = [(yData, xData, additionalSeriesParams)]"
   ]
  },
  {
   "cell_type": "markdown",
   "metadata": {},
   "source": [
    "## Calculate 4th order polynomial fit coefficients for series"
   ]
  },
  {
   "cell_type": "code",
   "execution_count": 12,
   "metadata": {},
   "outputs": [],
   "source": [
    "xDataArr = np.array(xData)\n",
    "yDataArr = np.array(yData)\n",
    "coeffs = np.polyfit(xDataArr, yDataArr, 4)"
   ]
  },
  {
   "cell_type": "markdown",
   "metadata": {},
   "source": [
    "## Define a function for the 4th degree polynomial fit"
   ]
  },
  {
   "cell_type": "code",
   "execution_count": 13,
   "metadata": {},
   "outputs": [],
   "source": [
    "def My4degPolyFitFunc(x, a, b, c, d, e):\n",
    "\n",
    "    return a*np.power(x, 4) + b*np.power(x, 3) + c*np.power(x, 2) + d*x + e"
   ]
  },
  {
   "cell_type": "markdown",
   "metadata": {},
   "source": [
    "## Generate more points in the xRange and use to get the fitted y points"
   ]
  },
  {
   "cell_type": "code",
   "execution_count": 14,
   "metadata": {},
   "outputs": [],
   "source": [
    "moreXData = np.linspace(min(xData), max(xData), 25)\n",
    "fittedYData = []\n",
    "for x in moreXData:\n",
    "    fittedY = My4degPolyFitFunc(x, coeffs[0], coeffs[1], coeffs[2],\n",
    "                                coeffs[3], coeffs[4])\n",
    "    fittedYData.append(fittedY)\n",
    "series.append((fittedYData, moreXData, [('Data Type', 'Discrete', 'Best Fit Curve')]))"
   ]
  },
  {
   "cell_type": "markdown",
   "metadata": {},
   "source": [
    "## Plot and show series to be imported"
   ]
  },
  {
   "cell_type": "code",
   "execution_count": 25,
   "metadata": {},
   "outputs": [
    {
     "data": {
      "image/png": "[encoded data removed]",
      "text/plain": [
       "<matplotlib.figure.Figure at 0x1b5f453bdd8>"
      ]
     },
     "metadata": {},
     "output_type": "display_data"
    }
   ],
   "source": [
    "labels = ['Test Data', 'Best Fit Curve']\n",
    "markers = ['ro', 'g--']\n",
    "for counter, s in enumerate(series):\n",
    "    sLabel = ''\n",
    "    try:\n",
    "        if s[2]:\n",
    "            for index, param in enumerate(s[2], 1):\n",
    "                if index < len(s[2]):\n",
    "                    labelSubString = param[0] + ' = ' + str(param[2]) + param[3] + ', '\n",
    "                else:\n",
    "                    labelSubString = param[0] + ' = ' + str(param[2]) + param[3]\n",
    "                sLabel = sLabel + labelSubString\n",
    "        else:\n",
    "            sLabel = labels[counter]\n",
    "    except IndexError:\n",
    "        sLabel = labels[counter]\n",
    "    plt.plot(s[1], s[0], markers[counter], label=sLabel)\n",
    "\n",
    "plt.legend(loc='upper right')\n",
    "plt.ylabel(funcAttributeName + r'/' + mutualAttributeUnit)\n",
    "if xAxis[1] == 'Numeric':\n",
    "    plt.xlabel(xAxis[0] + r'/' + xAxis[2])\n",
    "elif xAxis[1] == 'Discrete':\n",
    "    plt.xlabel(xAxis[0])\n",
    "else:\n",
    "    sys.exit('Incorrect or unspecified type for x-Axis parameter')\n",
    "plt.show()"
   ]
  },
  {
   "cell_type": "markdown",
   "metadata": {},
   "source": [
    "## Get the root node of the table to import to (we won't create any folders in this example)"
   ]
  },
  {
   "cell_type": "code",
   "execution_count": 26,
   "metadata": {
    "collapsed": true
   },
   "outputs": [],
   "source": [
    "RootNodeRequest = gdl.GetRootNode(table=importTableRef)\n",
    "myRootNodeRef = session.browseService.GetRootNode(RootNodeRequest).rootNode.recordReference"
   ]
  },
  {
   "cell_type": "markdown",
   "metadata": {},
   "source": [
    "## Function to create the xyPoints list"
   ]
  },
  {
   "cell_type": "code",
   "execution_count": 27,
   "metadata": {
    "collapsed": true
   },
   "outputs": [],
   "source": [
    "def CreateXYPoints(yValues, xValues, xAxisType):\n",
    "    \n",
    "    xyPoints = []\n",
    "    for index, y in enumerate(yValues,0):\n",
    "        if xAxisType == 'Numeric':\n",
    "            paramValue = gdl.ParameterValue(numericValue=float(xValues[index]))\n",
    "        elif xAxisType == 'Discrete':\n",
    "            paramValue = gdl.ParameterValue(discreteValue=xValues[index])\n",
    "        else:\n",
    "            sys.exit('Incorrect or unspecified type for x-Axis parameter')\n",
    "        xyPoints.append(gdl.XYPoint(Y=float(y), parameterValue=paramValue))\n",
    "        \n",
    "    return xyPoints"
   ]
  },
  {
   "cell_type": "markdown",
   "metadata": {},
   "source": [
    "## Function to create the Constraints list"
   ]
  },
  {
   "cell_type": "code",
   "execution_count": 28,
   "metadata": {
    "collapsed": true
   },
   "outputs": [],
   "source": [
    "def CreateConstraints(additionalSeriesParams, dbKey):\n",
    "    \n",
    "    constraints = []\n",
    "    for param in additionalSeriesParams:\n",
    "        if param[1] == 'Numeric':\n",
    "            paramValue = gdl.ParameterValue(numericValue=float(param[2]))\n",
    "        elif param[1] == 'Discrete':\n",
    "            paramValue = gdl.ParameterValue(discreteValue=param[2])\n",
    "        else:\n",
    "            sys.exit('Incorrect or unspecified parameter type for additional parameter \"{}\"'.format(param[0]))\n",
    "        paramRef = gdl.ParameterReference(name=param[0], DBKey=dbKey)\n",
    "        constraints.append(gdl.Constraint(parameterValue=paramValue, parameter=paramRef))\n",
    "        \n",
    "    return constraints"
   ]
  },
  {
   "cell_type": "markdown",
   "metadata": {},
   "source": [
    "## Function to create the X-Axis information object"
   ]
  },
  {
   "cell_type": "code",
   "execution_count": 29,
   "metadata": {
    "collapsed": true
   },
   "outputs": [],
   "source": [
    "def CreateXAxisInfo(xAxis, dbKey):\n",
    "    \n",
    "    paramRef = gdl.ParameterReference(name=xAxis[0], DBKey=dbKey)\n",
    "    if xAxis[1] == 'Numeric':\n",
    "        unitInfo = gdl.UnitInformation(unitSymbol=xAxis[2])\n",
    "        paramInfo = gdl.ParameterInformation(parameterReference=paramRef, name=xAxis[0], unit=unitInfo)\n",
    "    else:\n",
    "        paramInfo = gdl.ParameterInformation(parameterReference=paramRef, name=xAxis[0])\n",
    "    \n",
    "    return paramInfo"
   ]
  },
  {
   "cell_type": "markdown",
   "metadata": {},
   "source": [
    "## Function to create the Parameters list"
   ]
  },
  {
   "cell_type": "code",
   "execution_count": 30,
   "metadata": {
    "collapsed": true
   },
   "outputs": [],
   "source": [
    "def CreateParameters(additionalSeriesParams, dbKey):\n",
    "    \n",
    "    params = []\n",
    "    for param in additionalSeriesParams:\n",
    "        paramRef = gdl.ParameterReference(name=param[0], DBKey=dbKey)\n",
    "        if param[1] == 'Numeric':\n",
    "            unitInfo = gdl.UnitInformation(unitSymbol=param[3])\n",
    "            paramInfo = gdl.ParameterInformation(parameterReference=paramRef, name=param[0], unit=unitInfo)\n",
    "        else:\n",
    "            paramInfo = gdl.ParameterInformation(parameterReference=paramRef, name=param[0])\n",
    "        params.append(paramInfo)\n",
    "        \n",
    "    return params"
   ]
  },
  {
   "cell_type": "markdown",
   "metadata": {},
   "source": [
    "## Generate the functional attribute import object"
   ]
  },
  {
   "cell_type": "markdown",
   "metadata": {},
   "source": [
    "This cell does all the hard work of calling the above functions to build up the nested series functional attribute import object"
   ]
  },
  {
   "cell_type": "code",
   "execution_count": 31,
   "metadata": {},
   "outputs": [],
   "source": [
    "seriesObjects = []\n",
    "decors = [1, 0]\n",
    "for index, s in enumerate(series):\n",
    "    xyData = gdl.XYData(XYPoints=CreateXYPoints(s[0], s[1], xAxis[1]))\n",
    "    newConstraints = gdl.Constraints(constraints=CreateConstraints(s[2], dbKey))\n",
    "    seriesObjects.append(gdl.Series(XYPoints=xyData, decoration=decors[index], constraints=newConstraints))\n",
    "    \n",
    "newGraph = gdl.FloatFunctionalSeriesGraph(series=seriesObjects, XAxisParameter=CreateXAxisInfo(xAxis, dbKey))\n",
    "paramRefs = gdl.Parameters(parameters=CreateParameters(series[0][2], dbKey))\n",
    "yAxisUnitInfo = gdl.UnitInformation(unitSymbol=mutualAttributeUnit)\n",
    "seriesFunctionalObject = gdl.FloatFunctionalSeriesDataType(graph=newGraph, parameters=paramRefs,\n",
    "                                                           unitInformation=yAxisUnitInfo)\n",
    "funcAttributeImportObject = gdl.ImportAttributeValue(attributeReference=funcAttributeRef,\n",
    "                                                     floatFunctionalSeriesDataType=seriesFunctionalObject)"
   ]
  },
  {
   "cell_type": "markdown",
   "metadata": {},
   "source": [
    "## Import the new record and functional attribute"
   ]
  },
  {
   "cell_type": "code",
   "execution_count": 32,
   "metadata": {},
   "outputs": [
    {
     "name": "stdout",
     "output_type": "stream",
     "text": [
      "Imported record STK Stats-To-Design Roll-Up Import - 2018-01-17 19:56:31s to GRANTA MI database\n"
     ]
    }
   ],
   "source": [
    "recNameWithTime = newRecordName + ' - ' + strftime(\"%Y-%m-%d %H:%M:%S\")\n",
    "\n",
    "myImportRecord = gdl.ImportRecord(recordName = recNameWithTime, isFolder = False,\n",
    "                                  importAttributeValues = [funcAttributeImportObject],\n",
    "                                  importRecordMode = 'Create', subsetReferences = [importSubsetReference],\n",
    "                                  existingRecord = myRootNodeRef,\n",
    "                                  releaseRecord = False)\n",
    "\n",
    "setRecordAttributesRequest = gdl.SetRecordAttributesRequest(importRecords=[myImportRecord])\n",
    "setRecordAttributesResponse = session.dataImportService.SetRecordAttributes(setRecordAttributesRequest)\n",
    "\n",
    "for record in setRecordAttributesResponse.recordsImported:\n",
    "    print('Imported record {}s to GRANTA MI database'.format(record.shortName))"
   ]
  },
  {
   "cell_type": "code",
   "execution_count": null,
   "metadata": {
    "collapsed": true
   },
   "outputs": [],
   "source": []
  }
 ],
 "metadata": {
  "kernelspec": {
   "display_name": "Python 3",
   "language": "python",
   "name": "python3"
  },
  "language_info": {
   "codemirror_mode": {
    "name": "ipython",
    "version": 3
   },
   "file_extension": ".py",
   "mimetype": "text/x-python",
   "name": "python",
   "nbconvert_exporter": "python",
   "pygments_lexer": "ipython3",
   "version": "3.6.3"
  },
  "latex_envs": {
   "bibliofile": "biblio.bib",
   "cite_by": "apalike",
   "current_citInitial": 1,
   "eqLabelWithNumbers": true,
   "eqNumInitial": 0
  }
 },
 "nbformat": 4,
 "nbformat_minor": 1
}
